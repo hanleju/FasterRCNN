{
 "cells": [
  {
   "attachments": {},
   "cell_type": "markdown",
   "metadata": {},
   "source": [
    "## Delete Segmentation inform"
   ]
  },
  {
   "cell_type": "code",
   "execution_count": 1,
   "metadata": {},
   "outputs": [],
   "source": [
    "import json\n",
    "\n",
    "def remove_segmentation(json_file_path, output_file_path):\n",
    "    with open(json_file_path, 'r') as file:\n",
    "        coco_data = json.load(file)\n",
    "\n",
    "    for annotation in coco_data['annotations']:\n",
    "        # Remove the segmentation information\n",
    "        if 'segmentation' in annotation:\n",
    "            del annotation['segmentation']\n",
    "\n",
    "    # Save the modified data to a new JSON file\n",
    "    with open(output_file_path, 'w') as output_file:\n",
    "        json.dump(coco_data, output_file, indent=2)\n",
    "\n",
    "# Replace 'input_coco.json' and 'output_coco.json' with your file paths\n",
    "remove_segmentation('json/My_test.json', 'json/My_test_bbox.json')"
   ]
  }
 ],
 "metadata": {
  "kernelspec": {
   "display_name": "detectron_rev",
   "language": "python",
   "name": "python3"
  },
  "language_info": {
   "codemirror_mode": {
    "name": "ipython",
    "version": 3
   },
   "file_extension": ".py",
   "mimetype": "text/x-python",
   "name": "python",
   "nbconvert_exporter": "python",
   "pygments_lexer": "ipython3",
   "version": "3.8.3"
  },
  "orig_nbformat": 4
 },
 "nbformat": 4,
 "nbformat_minor": 2
}
